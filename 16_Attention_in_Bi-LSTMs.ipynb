{
 "cells": [
  {
   "cell_type": "markdown",
   "metadata": {},
   "source": [
    "[Notes/Attention Mechanism notes.pdf](<Notes/Attention Mechanism notes.pdf>)"
   ]
  },
  {
   "cell_type": "code",
   "execution_count": 1,
   "metadata": {},
   "outputs": [],
   "source": [
    "import torch\n",
    "import torch.nn as nn"
   ]
  },
  {
   "cell_type": "code",
   "execution_count": null,
   "metadata": {},
   "outputs": [],
   "source": [
    "# Attention mechanism class definition\n",
    "class Attention(nn.Module):\n",
    "    def __init__(self, hidden_dim):\n",
    "        super(Attention, self).__init__()\n",
    "        \n",
    "        # Linear layer for calculating attention scores\n",
    "        self.attn = nn.Linear(hidden_dim, hidden_dim)\n",
    "\n",
    "    def forward(self, hidden_states):\n",
    "        # Calculate attention scores (compatibility between hidden states)\n",
    "        score = torch.softmax(torch.bmm(hidden_states, hidden_states.transpose(1, 2)), dim=-1)\n",
    "        \n",
    "        # Compute attention output as weighted sum of hidden states\n",
    "        attention_output = torch.bmm(score, hidden_states)\n",
    "        \n",
    "        return attention_output"
   ]
  },
  {
   "cell_type": "code",
   "execution_count": null,
   "metadata": {},
   "outputs": [],
   "source": [
    "# BiLSTM with Attention mechanism class definition\n",
    "class BiLSTMWithAttention(nn.Module):\n",
    "    def __init__(self, input_dim, hidden_dim, output_dim):\n",
    "        super(BiLSTMWithAttention, self).__init__()\n",
    "        \n",
    "        # Bi-directional LSTM layer\n",
    "        self.lstm = nn.LSTM(input_dim, hidden_dim, batch_first=True, bidirectional=True)\n",
    "        \n",
    "        # Attention mechanism to weight the LSTM outputs\n",
    "        self.attention = Attention(hidden_dim * 2)  # Bi-LSTM doubles hidden_dim\n",
    "\n",
    "        # Fully connected layer for final output\n",
    "        self.fc = nn.Linear(hidden_dim * 2, output_dim)\n",
    "\n",
    "    def forward(self, x):\n",
    "        # Pass input through LSTM layer\n",
    "        lstm_out, _ = self.lstm(x)\n",
    "        \n",
    "        # Apply attention on LSTM outputs\n",
    "        attn_out = self.attention(lstm_out)\n",
    "        \n",
    "        # Return the output of the last timestep after applying attention\n",
    "        return self.fc(attn_out[:, -1, :])  # Take the last timestep's output"
   ]
  },
  {
   "cell_type": "code",
   "execution_count": 4,
   "metadata": {},
   "outputs": [
    {
     "name": "stdout",
     "output_type": "stream",
     "text": [
      "BiLSTMWithAttention(\n",
      "  (lstm): LSTM(128, 64, batch_first=True, bidirectional=True)\n",
      "  (attention): Attention(\n",
      "    (attn): Linear(in_features=128, out_features=128, bias=True)\n",
      "  )\n",
      "  (fc): Linear(in_features=128, out_features=1, bias=True)\n",
      ")\n"
     ]
    }
   ],
   "source": [
    "# Define Model\n",
    "model = BiLSTMWithAttention(input_dim=128, hidden_dim=64, output_dim=1)\n",
    "print(model)"
   ]
  },
  {
   "cell_type": "code",
   "execution_count": null,
   "metadata": {},
   "outputs": [],
   "source": []
  }
 ],
 "metadata": {
  "kernelspec": {
   "display_name": "Python 3",
   "language": "python",
   "name": "python3"
  },
  "language_info": {
   "codemirror_mode": {
    "name": "ipython",
    "version": 3
   },
   "file_extension": ".py",
   "mimetype": "text/x-python",
   "name": "python",
   "nbconvert_exporter": "python",
   "pygments_lexer": "ipython3",
   "version": "3.12.4"
  }
 },
 "nbformat": 4,
 "nbformat_minor": 2
}
