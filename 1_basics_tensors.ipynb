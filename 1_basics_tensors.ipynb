{
 "cells": [
  {
   "cell_type": "code",
   "execution_count": 44,
   "metadata": {},
   "outputs": [
    {
     "name": "stdout",
     "output_type": "stream",
     "text": [
      "2.5.1\n",
      "No GPU available\n"
     ]
    }
   ],
   "source": [
    "import torch\n",
    "print(torch.__version__)\n",
    "if(torch.cuda.is_available()):\n",
    "    print(torch.cuda.get_device_name(0))\n",
    "    print(torch.cuda.is_available())\n",
    "else:\n",
    "    print(\"No GPU available\")"
   ]
  },
  {
   "cell_type": "markdown",
   "metadata": {},
   "source": [
    "## 1. TENSOR CREATION"
   ]
  },
  {
   "cell_type": "markdown",
   "metadata": {},
   "source": [
    "-> For empty tensor"
   ]
  },
  {
   "cell_type": "code",
   "execution_count": 45,
   "metadata": {},
   "outputs": [
    {
     "name": "stdout",
     "output_type": "stream",
     "text": [
      "<class 'torch.Tensor'>\n",
      "tensor([[0., 0., 0.],\n",
      "        [0., 0., 0.],\n",
      "        [0., 0., 0.],\n",
      "        [0., 0., 0.],\n",
      "        [0., 0., 0.]])\n"
     ]
    }
   ],
   "source": [
    "a = torch.empty(5, 3)\n",
    "print(type(a))\n",
    "print(a)"
   ]
  },
  {
   "cell_type": "markdown",
   "metadata": {},
   "source": [
    "-> For all the ones in tensor"
   ]
  },
  {
   "cell_type": "code",
   "execution_count": 46,
   "metadata": {},
   "outputs": [
    {
     "name": "stdout",
     "output_type": "stream",
     "text": [
      "tensor([[1., 1., 1.],\n",
      "        [1., 1., 1.],\n",
      "        [1., 1., 1.],\n",
      "        [1., 1., 1.],\n",
      "        [1., 1., 1.]])\n"
     ]
    }
   ],
   "source": [
    "a = torch.ones(5, 3)\n",
    "print(a)"
   ]
  },
  {
   "cell_type": "markdown",
   "metadata": {},
   "source": [
    "-> For Random values "
   ]
  },
  {
   "cell_type": "code",
   "execution_count": 47,
   "metadata": {},
   "outputs": [
    {
     "name": "stdout",
     "output_type": "stream",
     "text": [
      "tensor([[0.6726, 0.5740, 0.9233],\n",
      "        [0.9178, 0.7590, 0.7775],\n",
      "        [0.6179, 0.3379, 0.2170],\n",
      "        [0.9454, 0.7116, 0.1157],\n",
      "        [0.6574, 0.3451, 0.0453]])\n"
     ]
    }
   ],
   "source": [
    "a = torch.rand(5, 3)\n",
    "print(a)"
   ]
  },
  {
   "cell_type": "markdown",
   "metadata": {},
   "source": [
    "-> Manual Seed for reproducability of same random values."
   ]
  },
  {
   "cell_type": "code",
   "execution_count": 48,
   "metadata": {},
   "outputs": [
    {
     "data": {
      "text/plain": [
       "tensor([[0.1117, 0.8158, 0.2626],\n",
       "        [0.4839, 0.6765, 0.7539],\n",
       "        [0.2627, 0.0428, 0.2080],\n",
       "        [0.1180, 0.1217, 0.7356],\n",
       "        [0.7118, 0.7876, 0.4183]])"
      ]
     },
     "execution_count": 48,
     "metadata": {},
     "output_type": "execute_result"
    }
   ],
   "source": [
    "torch.manual_seed(100)\n",
    "torch.rand(5, 3)"
   ]
  },
  {
   "cell_type": "code",
   "execution_count": 49,
   "metadata": {},
   "outputs": [
    {
     "data": {
      "text/plain": [
       "tensor([[0.1117, 0.8158, 0.2626],\n",
       "        [0.4839, 0.6765, 0.7539],\n",
       "        [0.2627, 0.0428, 0.2080],\n",
       "        [0.1180, 0.1217, 0.7356],\n",
       "        [0.7118, 0.7876, 0.4183]])"
      ]
     },
     "execution_count": 49,
     "metadata": {},
     "output_type": "execute_result"
    }
   ],
   "source": [
    "torch.manual_seed(100)\n",
    "torch.rand(5, 3)"
   ]
  },
  {
   "cell_type": "markdown",
   "metadata": {},
   "source": [
    "-> Tensor from our given values."
   ]
  },
  {
   "cell_type": "code",
   "execution_count": 50,
   "metadata": {},
   "outputs": [
    {
     "data": {
      "text/plain": [
       "tensor([[1, 2, 3],\n",
       "        [4, 5, 6]])"
      ]
     },
     "execution_count": 50,
     "metadata": {},
     "output_type": "execute_result"
    }
   ],
   "source": [
    "torch.tensor([[1,2,3], [4,5,6]])"
   ]
  },
  {
   "cell_type": "markdown",
   "metadata": {},
   "source": [
    "-> Other ways to create tensors."
   ]
  },
  {
   "cell_type": "code",
   "execution_count": 51,
   "metadata": {},
   "outputs": [
    {
     "name": "stdout",
     "output_type": "stream",
     "text": [
      "tensor([0, 2, 4, 6, 8])\n",
      "tensor([ 0.0000,  2.5000,  5.0000,  7.5000, 10.0000])\n",
      "tensor([[1., 0., 0.],\n",
      "        [0., 1., 0.],\n",
      "        [0., 0., 1.]])\n",
      "tensor([[10, 10, 10],\n",
      "        [10, 10, 10]])\n"
     ]
    }
   ],
   "source": [
    "#arange for range\n",
    "print(torch.arange(0, 10, 2)) #start, end, step\n",
    "\n",
    "#lingspace for linear spacing\n",
    "print(torch.linspace(0, 10, 5)) #start, end, number of points\n",
    "\n",
    "#eye for identity matrix\n",
    "print(torch.eye(3))\n",
    "\n",
    "#full for filling tensor with a value\n",
    "print(torch.full((2,3), 10))"
   ]
  },
  {
   "cell_type": "markdown",
   "metadata": {},
   "source": [
    "## 2. TENSOR SHAPES"
   ]
  },
  {
   "cell_type": "code",
   "execution_count": 52,
   "metadata": {},
   "outputs": [
    {
     "name": "stdout",
     "output_type": "stream",
     "text": [
      "tensor([[1, 2, 3],\n",
      "        [4, 5, 6]])\n"
     ]
    }
   ],
   "source": [
    "x = torch.tensor([[1,2,3], [4,5,6]])\n",
    "print(x)"
   ]
  },
  {
   "cell_type": "code",
   "execution_count": 53,
   "metadata": {},
   "outputs": [
    {
     "data": {
      "text/plain": [
       "torch.Size([2, 3])"
      ]
     },
     "execution_count": 53,
     "metadata": {},
     "output_type": "execute_result"
    }
   ],
   "source": [
    "x.shape"
   ]
  },
  {
   "cell_type": "code",
   "execution_count": 54,
   "metadata": {},
   "outputs": [
    {
     "data": {
      "text/plain": [
       "tensor([[0, 0, 0],\n",
       "        [0, 0, 0]])"
      ]
     },
     "execution_count": 54,
     "metadata": {},
     "output_type": "execute_result"
    }
   ],
   "source": [
    "torch.empty_like(x)"
   ]
  },
  {
   "cell_type": "code",
   "execution_count": 55,
   "metadata": {},
   "outputs": [
    {
     "data": {
      "text/plain": [
       "tensor([[1, 1, 1],\n",
       "        [1, 1, 1]])"
      ]
     },
     "execution_count": 55,
     "metadata": {},
     "output_type": "execute_result"
    }
   ],
   "source": [
    "torch.ones_like(x)"
   ]
  },
  {
   "cell_type": "code",
   "execution_count": 56,
   "metadata": {},
   "outputs": [
    {
     "data": {
      "text/plain": [
       "tensor([[0.9014, 0.9969, 0.7565],\n",
       "        [0.2239, 0.3023, 0.1784]])"
      ]
     },
     "execution_count": 56,
     "metadata": {},
     "output_type": "execute_result"
    }
   ],
   "source": [
    "torch.rand_like(x, dtype=torch.float32)"
   ]
  },
  {
   "cell_type": "markdown",
   "metadata": {},
   "source": [
    "## 3. Datatypes"
   ]
  },
  {
   "cell_type": "code",
   "execution_count": 57,
   "metadata": {},
   "outputs": [
    {
     "data": {
      "text/plain": [
       "torch.int64"
      ]
     },
     "execution_count": 57,
     "metadata": {},
     "output_type": "execute_result"
    }
   ],
   "source": [
    "# find the datatype of the tensor\n",
    "x.dtype"
   ]
  },
  {
   "cell_type": "code",
   "execution_count": 58,
   "metadata": {},
   "outputs": [
    {
     "data": {
      "text/plain": [
       "torch.float32"
      ]
     },
     "execution_count": 58,
     "metadata": {},
     "output_type": "execute_result"
    }
   ],
   "source": [
    "# assigning the datatype\n",
    "x = torch.tensor([[1,2,3], [4,5,6]], dtype=torch.float32)\n",
    "x.dtype"
   ]
  },
  {
   "cell_type": "code",
   "execution_count": 59,
   "metadata": {},
   "outputs": [
    {
     "data": {
      "text/plain": [
       "tensor([[1, 2, 3],\n",
       "        [4, 5, 6]], dtype=torch.int32)"
      ]
     },
     "execution_count": 59,
     "metadata": {},
     "output_type": "execute_result"
    }
   ],
   "source": [
    "x.to(torch.int32)"
   ]
  },
  {
   "cell_type": "markdown",
   "metadata": {},
   "source": [
    "## 4.  MATHEMATICAL OPERATIONS"
   ]
  },
  {
   "cell_type": "markdown",
   "metadata": {},
   "source": [
    "* Scalar Operations"
   ]
  },
  {
   "cell_type": "code",
   "execution_count": 60,
   "metadata": {},
   "outputs": [],
   "source": [
    "x = torch.rand(2,2)"
   ]
  },
  {
   "cell_type": "code",
   "execution_count": 61,
   "metadata": {},
   "outputs": [
    {
     "data": {
      "text/plain": [
       "tensor([[1., 0.],\n",
       "        [0., 0.]])"
      ]
     },
     "execution_count": 61,
     "metadata": {},
     "output_type": "execute_result"
    }
   ],
   "source": [
    "x+2\n",
    "x-2\n",
    "x*2\n",
    "x/2\n",
    "x**2\n",
    "(x*100)//3\n",
    "((x*100)//3)%2"
   ]
  },
  {
   "cell_type": "markdown",
   "metadata": {},
   "source": [
    "* Element wise Operation"
   ]
  },
  {
   "cell_type": "code",
   "execution_count": 62,
   "metadata": {},
   "outputs": [
    {
     "name": "stdout",
     "output_type": "stream",
     "text": [
      "tensor([[1, 2],\n",
      "        [3, 4]])\n",
      "tensor([[10, 20],\n",
      "        [30, 40]])\n"
     ]
    }
   ],
   "source": [
    "a = torch.tensor([[1,2], [3,4]])\n",
    "print(a)\n",
    "b = torch.tensor([[10,20], [30,40]])\n",
    "print(b)"
   ]
  },
  {
   "cell_type": "code",
   "execution_count": 63,
   "metadata": {},
   "outputs": [
    {
     "name": "stdout",
     "output_type": "stream",
     "text": [
      "tensor([[11, 22],\n",
      "        [33, 44]])\n",
      "tensor([[11, 22],\n",
      "        [33, 44]])\n",
      "tensor([[ -9, -18],\n",
      "        [-27, -36]])\n",
      "tensor([[ -9, -18],\n",
      "        [-27, -36]])\n",
      "tensor([[ 10,  40],\n",
      "        [ 90, 160]])\n",
      "tensor([[ 10,  40],\n",
      "        [ 90, 160]])\n",
      "tensor([[0.1000, 0.1000],\n",
      "        [0.1000, 0.1000]])\n",
      "tensor([[0.1000, 0.1000],\n",
      "        [0.1000, 0.1000]])\n",
      "tensor([[ 70, 100],\n",
      "        [150, 220]])\n",
      "tensor([[ 70, 100],\n",
      "        [150, 220]])\n"
     ]
    }
   ],
   "source": [
    "#addition\n",
    "print(a+b)\n",
    "print(torch.add(a,b))\n",
    "\n",
    "#subtraction\n",
    "print(a-b)\n",
    "print(torch.sub(a,b))\n",
    "\n",
    "#multiplication\n",
    "print(a*b)  \n",
    "print(torch.mul(a,b))\n",
    "\n",
    "#division\n",
    "print(a/b)\n",
    "print(torch.div(a,b))\n",
    "\n",
    "#matrix multiplication\n",
    "print(a@b)\n",
    "print(torch.mm(a,b))"
   ]
  },
  {
   "cell_type": "code",
   "execution_count": 64,
   "metadata": {},
   "outputs": [],
   "source": [
    "c = torch.tensor([-10,20,-30])"
   ]
  },
  {
   "cell_type": "code",
   "execution_count": null,
   "metadata": {},
   "outputs": [
    {
     "name": "stdout",
     "output_type": "stream",
     "text": [
      "tensor([10, 20, 30])\n"
     ]
    }
   ],
   "source": [
    "#abs for absolute value\n",
    "print(torch.abs(c))"
   ]
  },
  {
   "cell_type": "code",
   "execution_count": 66,
   "metadata": {},
   "outputs": [
    {
     "name": "stdout",
     "output_type": "stream",
     "text": [
      "tensor([ 10, -20,  30])\n"
     ]
    }
   ],
   "source": [
    "#negation\n",
    "print(torch.neg(c))"
   ]
  },
  {
   "cell_type": "code",
   "execution_count": 67,
   "metadata": {},
   "outputs": [],
   "source": [
    "d = torch.tensor([1.2, 2.3, 3.4])"
   ]
  },
  {
   "cell_type": "code",
   "execution_count": 68,
   "metadata": {},
   "outputs": [
    {
     "name": "stdout",
     "output_type": "stream",
     "text": [
      "tensor([1., 2., 3.])\n",
      "tensor([2., 3., 4.])\n",
      "tensor([1., 2., 3.])\n"
     ]
    }
   ],
   "source": [
    "#rounding\n",
    "print(torch.round(d))\n",
    "#ceil\n",
    "print(torch.ceil(d))\n",
    "#floor\n",
    "print(torch.floor(d))"
   ]
  },
  {
   "cell_type": "markdown",
   "metadata": {},
   "source": [
    "## 5. REDUCTION OPERATIONS"
   ]
  },
  {
   "cell_type": "code",
   "execution_count": 69,
   "metadata": {},
   "outputs": [
    {
     "name": "stdout",
     "output_type": "stream",
     "text": [
      "tensor([[1., 9., 9.],\n",
      "        [8., 0., 7.]])\n"
     ]
    }
   ],
   "source": [
    "e = torch.randint(0, 10, (2,3), dtype=torch.float32)\n",
    "print(e)"
   ]
  },
  {
   "cell_type": "code",
   "execution_count": 70,
   "metadata": {},
   "outputs": [
    {
     "name": "stdout",
     "output_type": "stream",
     "text": [
      "tensor(34.)\n",
      "tensor([ 9.,  9., 16.])\n",
      "tensor([19., 15.])\n"
     ]
    }
   ],
   "source": [
    "#sum\n",
    "print(torch.sum(e))\n",
    "print(torch.sum(e, dim=0))  #column wise\n",
    "print(torch.sum(e, dim=1))  #row wise"
   ]
  },
  {
   "cell_type": "code",
   "execution_count": 71,
   "metadata": {},
   "outputs": [
    {
     "name": "stdout",
     "output_type": "stream",
     "text": [
      "tensor(5.6667)\n",
      "tensor(7.)\n"
     ]
    }
   ],
   "source": [
    "#mean\n",
    "print(torch.mean(e.float()))\n",
    "#median \n",
    "print(torch.median(e.float()))"
   ]
  },
  {
   "cell_type": "code",
   "execution_count": 72,
   "metadata": {},
   "outputs": [
    {
     "name": "stdout",
     "output_type": "stream",
     "text": [
      "tensor(9.)\n",
      "tensor(0.)\n"
     ]
    }
   ],
   "source": [
    "#max and min values\n",
    "print(torch.max(e))\n",
    "print(torch.min(e))"
   ]
  },
  {
   "cell_type": "code",
   "execution_count": 73,
   "metadata": {},
   "outputs": [
    {
     "name": "stdout",
     "output_type": "stream",
     "text": [
      "tensor(4.0825)\n"
     ]
    }
   ],
   "source": [
    "#standard deviation\n",
    "print(torch.std(e.float()))"
   ]
  },
  {
   "cell_type": "code",
   "execution_count": 74,
   "metadata": {},
   "outputs": [
    {
     "name": "stdout",
     "output_type": "stream",
     "text": [
      "tensor(16.6667)\n"
     ]
    }
   ],
   "source": [
    "#variance\n",
    "print(torch.var(e.float()))"
   ]
  },
  {
   "cell_type": "code",
   "execution_count": 75,
   "metadata": {},
   "outputs": [
    {
     "name": "stdout",
     "output_type": "stream",
     "text": [
      "tensor(1)\n",
      "tensor(4)\n"
     ]
    }
   ],
   "source": [
    "#argmax and argmin gives the index of the max and min values\n",
    "print(torch.argmax(e))\n",
    "print(torch.argmin(e))"
   ]
  },
  {
   "cell_type": "markdown",
   "metadata": {},
   "source": [
    "## 6. COMPARISION OPERATIONS"
   ]
  },
  {
   "cell_type": "code",
   "execution_count": 76,
   "metadata": {},
   "outputs": [
    {
     "name": "stdout",
     "output_type": "stream",
     "text": [
      "tensor([[0, 0, 9],\n",
      "        [5, 7, 3]])\n",
      "tensor([[9, 4, 0],\n",
      "        [5, 7, 5]])\n"
     ]
    }
   ],
   "source": [
    "i = torch.randint(0, 10, (2,3))\n",
    "print(i)\n",
    "j = torch.randint(0, 10, (2,3))\n",
    "print(j)"
   ]
  },
  {
   "cell_type": "code",
   "execution_count": 77,
   "metadata": {},
   "outputs": [
    {
     "name": "stdout",
     "output_type": "stream",
     "text": [
      "tensor([[False, False,  True],\n",
      "        [False, False, False]])\n",
      "tensor([[False, False,  True],\n",
      "        [False, False, False]])\n",
      "tensor([[False, False,  True],\n",
      "        [ True,  True, False]])\n",
      "tensor([[False, False,  True],\n",
      "        [ True,  True, False]])\n",
      "tensor([[ True,  True, False],\n",
      "        [False, False,  True]])\n",
      "tensor([[ True,  True, False],\n",
      "        [False, False,  True]])\n",
      "tensor([[ True,  True, False],\n",
      "        [ True,  True,  True]])\n",
      "tensor([[ True,  True, False],\n",
      "        [ True,  True,  True]])\n",
      "tensor([[False, False, False],\n",
      "        [ True,  True, False]])\n",
      "tensor([[False, False, False],\n",
      "        [ True,  True, False]])\n",
      "tensor([[ True,  True,  True],\n",
      "        [False, False,  True]])\n",
      "tensor([[ True,  True,  True],\n",
      "        [False, False,  True]])\n",
      "tensor([[False, False, False],\n",
      "        [ True,  True,  True]])\n",
      "tensor([[True, True, True],\n",
      "        [True, True, True]])\n",
      "tensor([[ True,  True, False],\n",
      "        [False, False, False]])\n",
      "tensor([[ True,  True,  True],\n",
      "        [False, False, False]])\n",
      "tensor([[0, 0, 9],\n",
      "        [5, 7, 3],\n",
      "        [9, 4, 0],\n",
      "        [5, 7, 5]])\n"
     ]
    }
   ],
   "source": [
    "# greater than\n",
    "print(i>j)\n",
    "print(torch.gt(i,j))\n",
    "\n",
    "# greater than or equal to\n",
    "print(i>=j)\n",
    "print(torch.ge(i,j))\n",
    "\n",
    "# less than\n",
    "print(i<j)\n",
    "print(torch.lt(i,j))\n",
    "\n",
    "# less than or equal to\n",
    "print(i<=j)\n",
    "print(torch.le(i,j))\n",
    "\n",
    "# equal to\n",
    "print(i==j)\n",
    "print(torch.eq(i,j))\n",
    "\n",
    "# not equal to\n",
    "print(i!=j)\n",
    "print(torch.ne(i,j))\n",
    "\n",
    "#logical and\n",
    "print(torch.logical_and(i,j))\n",
    "\n",
    "#logical or\n",
    "print(torch.logical_or(i,j))\n",
    "\n",
    "#logical not\n",
    "print(torch.logical_not(i))\n",
    "\n",
    "#logical xor\n",
    "print(torch.logical_xor(i,j))\n",
    "\n",
    "#concatenation\n",
    "print(torch.cat((i,j), dim=0))"
   ]
  },
  {
   "cell_type": "markdown",
   "metadata": {},
   "source": [
    "## 7. SPECIAL FUNCTIONS"
   ]
  },
  {
   "cell_type": "code",
   "execution_count": 78,
   "metadata": {},
   "outputs": [
    {
     "name": "stdout",
     "output_type": "stream",
     "text": [
      "tensor([[9, 9, 7],\n",
      "        [5, 9, 8]])\n"
     ]
    }
   ],
   "source": [
    "k = torch.randint(0, 10, (2,3))\n",
    "print(k)"
   ]
  },
  {
   "cell_type": "code",
   "execution_count": 79,
   "metadata": {},
   "outputs": [
    {
     "name": "stdout",
     "output_type": "stream",
     "text": [
      "tensor([[2.1972, 2.1972, 1.9459],\n",
      "        [1.6094, 2.1972, 2.0794]])\n",
      "tensor([[3.0000, 3.0000, 2.6458],\n",
      "        [2.2361, 3.0000, 2.8284]])\n",
      "tensor([[8103.0840, 8103.0840, 1096.6332],\n",
      "        [ 148.4132, 8103.0840, 2980.9580]])\n",
      "tensor([[0.9999, 0.9999, 0.9991],\n",
      "        [0.9933, 0.9999, 0.9997]])\n",
      "tensor([[0.9820, 0.5000, 0.2689],\n",
      "        [0.0180, 0.5000, 0.7311]])\n",
      "tensor([[9., 9., 7.],\n",
      "        [5., 9., 8.]])\n",
      "tensor([[1.0000, 1.0000, 1.0000],\n",
      "        [0.9999, 1.0000, 1.0000]])\n"
     ]
    }
   ],
   "source": [
    "#log \n",
    "print(torch.log(k.float()))\n",
    "\n",
    "#sqrt\n",
    "print(torch.sqrt(k.float()))\n",
    "\n",
    "#exp\n",
    "print(torch.exp(k.float()))\n",
    "\n",
    "#sigmoid\n",
    "print(torch.sigmoid(k.float()))\n",
    "\n",
    "#softmax\n",
    "print(torch.softmax(k.float(), dim=0))\n",
    "\n",
    "#relu\n",
    "print(torch.relu(k.float()))\n",
    "\n",
    "#tanh\n",
    "print(torch.tanh(k.float()))"
   ]
  },
  {
   "cell_type": "markdown",
   "metadata": {},
   "source": [
    "## 8. INPLACE OPERATION"
   ]
  },
  {
   "cell_type": "code",
   "execution_count": 80,
   "metadata": {},
   "outputs": [
    {
     "name": "stdout",
     "output_type": "stream",
     "text": [
      "tensor([[9, 7, 9],\n",
      "        [2, 6, 7]])\n",
      "tensor([[7, 8, 3],\n",
      "        [6, 1, 5]])\n"
     ]
    }
   ],
   "source": [
    "m = torch.randint(0, 10, (2,3))\n",
    "print(m)\n",
    "n = torch.randint(0, 10, (2,3))\n",
    "print(n)"
   ]
  },
  {
   "cell_type": "code",
   "execution_count": 81,
   "metadata": {},
   "outputs": [
    {
     "name": "stdout",
     "output_type": "stream",
     "text": [
      "tensor([[16, 15, 12],\n",
      "        [ 8,  7, 12]])\n"
     ]
    }
   ],
   "source": [
    "# in inplace operations, the original tensor is modified in place and the modified tensor is returned\n",
    "m.add_(n)\n",
    "print(m)"
   ]
  },
  {
   "cell_type": "markdown",
   "metadata": {},
   "source": [
    "## 9. COPYING TENSOR"
   ]
  },
  {
   "cell_type": "code",
   "execution_count": 82,
   "metadata": {},
   "outputs": [
    {
     "name": "stdout",
     "output_type": "stream",
     "text": [
      "tensor([[16, 15, 12],\n",
      "        [ 8,  7, 12]])\n",
      "tensor([[7, 8, 3],\n",
      "        [6, 1, 5]])\n"
     ]
    }
   ],
   "source": [
    "# we do not use assignment operator for copying tensors, \n",
    "# beacuse it will create a reference to the original tensor and when we modify the new tensor,\n",
    "# the original tensor will also be modified instead we use clone.\n",
    "print(m)\n",
    "print(n)"
   ]
  },
  {
   "cell_type": "code",
   "execution_count": 83,
   "metadata": {},
   "outputs": [],
   "source": [
    "m = n.clone()"
   ]
  },
  {
   "cell_type": "code",
   "execution_count": 84,
   "metadata": {},
   "outputs": [
    {
     "name": "stdout",
     "output_type": "stream",
     "text": [
      "tensor([[7, 8, 3],\n",
      "        [6, 1, 5]])\n",
      "tensor([[7, 8, 3],\n",
      "        [6, 1, 5]])\n"
     ]
    }
   ],
   "source": [
    "print(m)\n",
    "print(n)"
   ]
  },
  {
   "cell_type": "code",
   "execution_count": 85,
   "metadata": {},
   "outputs": [
    {
     "name": "stdout",
     "output_type": "stream",
     "text": [
      "tensor([[7, 8, 3],\n",
      "        [6, 1, 5]])\n",
      "tensor([[100,   8,   3],\n",
      "        [  6,   1,   5]])\n"
     ]
    }
   ],
   "source": [
    "n[0,0] = 100\n",
    "print(m)\n",
    "print(n)"
   ]
  }
 ],
 "metadata": {
  "kernelspec": {
   "display_name": "Python 3",
   "language": "python",
   "name": "python3"
  },
  "language_info": {
   "codemirror_mode": {
    "name": "ipython",
    "version": 3
   },
   "file_extension": ".py",
   "mimetype": "text/x-python",
   "name": "python",
   "nbconvert_exporter": "python",
   "pygments_lexer": "ipython3",
   "version": "3.12.4"
  }
 },
 "nbformat": 4,
 "nbformat_minor": 2
}
